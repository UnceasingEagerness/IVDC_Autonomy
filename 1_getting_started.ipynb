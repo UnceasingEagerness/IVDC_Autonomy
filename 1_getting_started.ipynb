{
  "cells": [
    {
      "cell_type": "markdown",
      "metadata": {
        "id": "view-in-github",
        "colab_type": "text"
      },
      "source": [
        "<a href=\"https://colab.research.google.com/github/UnceasingEagerness/IVDC_Autonomy/blob/main/1_getting_started.ipynb\" target=\"_parent\"><img src=\"https://colab.research.google.com/assets/colab-badge.svg\" alt=\"Open In Colab\"/></a>"
      ]
    },
    {
      "cell_type": "markdown",
      "metadata": {
        "id": "hyyN-2qyK_T2"
      },
      "source": [
        "# Stable Baselines3 Tutorial - Getting Started\n",
        "\n",
        "Github repo: https://github.com/araffin/rl-tutorial-jnrr19/tree/sb3/\n",
        "\n",
        "Stable-Baselines3: https://github.com/DLR-RM/stable-baselines3\n",
        "\n",
        "Documentation: https://stable-baselines3.readthedocs.io/en/master/\n",
        "\n",
        "SB3-Contrib: https://github.com/Stable-Baselines-Team/stable-baselines3-contrib\n",
        "\n",
        "RL Baselines3 zoo: https://github.com/DLR-RM/rl-baselines3-zoo\n",
        "\n",
        "[RL Baselines3 Zoo](https://github.com/DLR-RM/rl-baselines3-zoo) is a training framework for Reinforcement Learning (RL), using Stable Baselines3.\n",
        "\n",
        "It provides scripts for training, evaluating agents, tuning hyperparameters, plotting results and recording videos.\n",
        "\n",
        "\n",
        "## Introduction\n",
        "\n",
        "In this notebook, you will learn the basics for using stable baselines library: how to create a RL model, train it and evaluate it. Because all algorithms share the same interface, we will see how simple it is to switch from one algorithm to another.\n",
        "\n",
        "\n",
        "## Install Dependencies and Stable Baselines3 Using Pip\n",
        "\n",
        "List of full dependencies can be found in the [README](https://github.com/DLR-RM/stable-baselines3).\n",
        "\n",
        "\n",
        "```\n",
        "pip install stable-baselines3[extra]\n",
        "```"
      ]
    },
    {
      "cell_type": "code",
      "execution_count": null,
      "metadata": {
        "id": "qgKHbZzy3vXF"
      },
      "outputs": [],
      "source": [
        "# for autoformatting\n",
        "# %load_ext jupyter_black"
      ]
    },
    {
      "cell_type": "code",
      "execution_count": 3,
      "metadata": {
        "colab": {
          "base_uri": "https://localhost:8080/"
        },
        "id": "gWskDE2c9WoN",
        "outputId": "b1f2c5fc-6d16-4695-a761-e55d75e1f75a"
      },
      "outputs": [
        {
          "output_type": "stream",
          "name": "stdout",
          "text": [
            "Reading package lists... Done\n",
            "Building dependency tree... Done\n",
            "Reading state information... Done\n",
            "ffmpeg is already the newest version (7:4.4.2-0ubuntu0.22.04.1).\n",
            "xvfb is already the newest version (2:21.1.4-2ubuntu1.7~22.04.14).\n",
            "The following additional packages will be installed:\n",
            "  freeglut3 libegl-dev libgl-dev libgl1-mesa-dev libgles-dev libgles1\n",
            "  libglu1-mesa libglu1-mesa-dev libglvnd-core-dev libglvnd-dev libglx-dev\n",
            "  libopengl-dev libxt-dev\n",
            "Suggested packages:\n",
            "  libxt-doc\n",
            "The following NEW packages will be installed:\n",
            "  freeglut3 freeglut3-dev libegl-dev libgl-dev libgl1-mesa-dev libgles-dev\n",
            "  libgles1 libglu1-mesa libglu1-mesa-dev libglvnd-core-dev libglvnd-dev\n",
            "  libglx-dev libopengl-dev libxt-dev\n",
            "0 upgraded, 14 newly installed, 0 to remove and 35 not upgraded.\n",
            "Need to get 1,192 kB of archives.\n",
            "After this operation, 6,439 kB of additional disk space will be used.\n",
            "Get:1 http://archive.ubuntu.com/ubuntu jammy/universe amd64 freeglut3 amd64 2.8.1-6 [74.0 kB]\n",
            "Get:2 http://archive.ubuntu.com/ubuntu jammy/main amd64 libglx-dev amd64 1.4.0-1 [14.1 kB]\n",
            "Get:3 http://archive.ubuntu.com/ubuntu jammy/main amd64 libgl-dev amd64 1.4.0-1 [101 kB]\n",
            "Get:4 http://archive.ubuntu.com/ubuntu jammy/main amd64 libglvnd-core-dev amd64 1.4.0-1 [12.7 kB]\n",
            "Get:5 http://archive.ubuntu.com/ubuntu jammy/main amd64 libegl-dev amd64 1.4.0-1 [18.0 kB]\n",
            "Get:6 http://archive.ubuntu.com/ubuntu jammy/main amd64 libgles1 amd64 1.4.0-1 [11.5 kB]\n",
            "Get:7 http://archive.ubuntu.com/ubuntu jammy/main amd64 libgles-dev amd64 1.4.0-1 [49.4 kB]\n",
            "Get:8 http://archive.ubuntu.com/ubuntu jammy/main amd64 libopengl-dev amd64 1.4.0-1 [3,400 B]\n",
            "Get:9 http://archive.ubuntu.com/ubuntu jammy/main amd64 libglvnd-dev amd64 1.4.0-1 [3,162 B]\n",
            "Get:10 http://archive.ubuntu.com/ubuntu jammy-updates/main amd64 libgl1-mesa-dev amd64 23.2.1-1ubuntu3.1~22.04.3 [6,848 B]\n",
            "Get:11 http://archive.ubuntu.com/ubuntu jammy/main amd64 libglu1-mesa amd64 9.0.2-1 [145 kB]\n",
            "Get:12 http://archive.ubuntu.com/ubuntu jammy/main amd64 libglu1-mesa-dev amd64 9.0.2-1 [231 kB]\n",
            "Get:13 http://archive.ubuntu.com/ubuntu jammy/main amd64 libxt-dev amd64 1:1.2.1-1 [396 kB]\n",
            "Get:14 http://archive.ubuntu.com/ubuntu jammy/universe amd64 freeglut3-dev amd64 2.8.1-6 [126 kB]\n",
            "Fetched 1,192 kB in 2s (552 kB/s)\n",
            "Selecting previously unselected package freeglut3:amd64.\n",
            "(Reading database ... 126109 files and directories currently installed.)\n",
            "Preparing to unpack .../00-freeglut3_2.8.1-6_amd64.deb ...\n",
            "Unpacking freeglut3:amd64 (2.8.1-6) ...\n",
            "Selecting previously unselected package libglx-dev:amd64.\n",
            "Preparing to unpack .../01-libglx-dev_1.4.0-1_amd64.deb ...\n",
            "Unpacking libglx-dev:amd64 (1.4.0-1) ...\n",
            "Selecting previously unselected package libgl-dev:amd64.\n",
            "Preparing to unpack .../02-libgl-dev_1.4.0-1_amd64.deb ...\n",
            "Unpacking libgl-dev:amd64 (1.4.0-1) ...\n",
            "Selecting previously unselected package libglvnd-core-dev:amd64.\n",
            "Preparing to unpack .../03-libglvnd-core-dev_1.4.0-1_amd64.deb ...\n",
            "Unpacking libglvnd-core-dev:amd64 (1.4.0-1) ...\n",
            "Selecting previously unselected package libegl-dev:amd64.\n",
            "Preparing to unpack .../04-libegl-dev_1.4.0-1_amd64.deb ...\n",
            "Unpacking libegl-dev:amd64 (1.4.0-1) ...\n",
            "Selecting previously unselected package libgles1:amd64.\n",
            "Preparing to unpack .../05-libgles1_1.4.0-1_amd64.deb ...\n",
            "Unpacking libgles1:amd64 (1.4.0-1) ...\n",
            "Selecting previously unselected package libgles-dev:amd64.\n",
            "Preparing to unpack .../06-libgles-dev_1.4.0-1_amd64.deb ...\n",
            "Unpacking libgles-dev:amd64 (1.4.0-1) ...\n",
            "Selecting previously unselected package libopengl-dev:amd64.\n",
            "Preparing to unpack .../07-libopengl-dev_1.4.0-1_amd64.deb ...\n",
            "Unpacking libopengl-dev:amd64 (1.4.0-1) ...\n",
            "Selecting previously unselected package libglvnd-dev:amd64.\n",
            "Preparing to unpack .../08-libglvnd-dev_1.4.0-1_amd64.deb ...\n",
            "Unpacking libglvnd-dev:amd64 (1.4.0-1) ...\n",
            "Selecting previously unselected package libgl1-mesa-dev:amd64.\n",
            "Preparing to unpack .../09-libgl1-mesa-dev_23.2.1-1ubuntu3.1~22.04.3_amd64.deb ...\n",
            "Unpacking libgl1-mesa-dev:amd64 (23.2.1-1ubuntu3.1~22.04.3) ...\n",
            "Selecting previously unselected package libglu1-mesa:amd64.\n",
            "Preparing to unpack .../10-libglu1-mesa_9.0.2-1_amd64.deb ...\n",
            "Unpacking libglu1-mesa:amd64 (9.0.2-1) ...\n",
            "Selecting previously unselected package libglu1-mesa-dev:amd64.\n",
            "Preparing to unpack .../11-libglu1-mesa-dev_9.0.2-1_amd64.deb ...\n",
            "Unpacking libglu1-mesa-dev:amd64 (9.0.2-1) ...\n",
            "Selecting previously unselected package libxt-dev:amd64.\n",
            "Preparing to unpack .../12-libxt-dev_1%3a1.2.1-1_amd64.deb ...\n",
            "Unpacking libxt-dev:amd64 (1:1.2.1-1) ...\n",
            "Selecting previously unselected package freeglut3-dev:amd64.\n",
            "Preparing to unpack .../13-freeglut3-dev_2.8.1-6_amd64.deb ...\n",
            "Unpacking freeglut3-dev:amd64 (2.8.1-6) ...\n",
            "Setting up freeglut3:amd64 (2.8.1-6) ...\n",
            "Setting up libglvnd-core-dev:amd64 (1.4.0-1) ...\n",
            "Setting up libxt-dev:amd64 (1:1.2.1-1) ...\n",
            "Setting up libgles1:amd64 (1.4.0-1) ...\n",
            "Setting up libglx-dev:amd64 (1.4.0-1) ...\n",
            "Setting up libglu1-mesa:amd64 (9.0.2-1) ...\n",
            "Setting up libopengl-dev:amd64 (1.4.0-1) ...\n",
            "Setting up libgl-dev:amd64 (1.4.0-1) ...\n",
            "Setting up libegl-dev:amd64 (1.4.0-1) ...\n",
            "Setting up libglu1-mesa-dev:amd64 (9.0.2-1) ...\n",
            "Setting up libgles-dev:amd64 (1.4.0-1) ...\n",
            "Setting up libglvnd-dev:amd64 (1.4.0-1) ...\n",
            "Setting up libgl1-mesa-dev:amd64 (23.2.1-1ubuntu3.1~22.04.3) ...\n",
            "Setting up freeglut3-dev:amd64 (2.8.1-6) ...\n",
            "Processing triggers for man-db (2.10.2-1) ...\n",
            "Processing triggers for libc-bin (2.35-0ubuntu3.8) ...\n",
            "/sbin/ldconfig.real: /usr/local/lib/libur_adapter_opencl.so.0 is not a symbolic link\n",
            "\n",
            "/sbin/ldconfig.real: /usr/local/lib/libtcm.so.1 is not a symbolic link\n",
            "\n",
            "/sbin/ldconfig.real: /usr/local/lib/libtcm_debug.so.1 is not a symbolic link\n",
            "\n",
            "/sbin/ldconfig.real: /usr/local/lib/libumf.so.0 is not a symbolic link\n",
            "\n",
            "/sbin/ldconfig.real: /usr/local/lib/libur_adapter_level_zero.so.0 is not a symbolic link\n",
            "\n",
            "/sbin/ldconfig.real: /usr/local/lib/libtbbbind_2_5.so.3 is not a symbolic link\n",
            "\n",
            "/sbin/ldconfig.real: /usr/local/lib/libtbb.so.12 is not a symbolic link\n",
            "\n",
            "/sbin/ldconfig.real: /usr/local/lib/libtbbmalloc.so.2 is not a symbolic link\n",
            "\n",
            "/sbin/ldconfig.real: /usr/local/lib/libtbbmalloc_proxy.so.2 is not a symbolic link\n",
            "\n",
            "/sbin/ldconfig.real: /usr/local/lib/libtbbbind_2_0.so.3 is not a symbolic link\n",
            "\n",
            "/sbin/ldconfig.real: /usr/local/lib/libtbbbind.so.3 is not a symbolic link\n",
            "\n",
            "/sbin/ldconfig.real: /usr/local/lib/libur_loader.so.0 is not a symbolic link\n",
            "\n",
            "/sbin/ldconfig.real: /usr/local/lib/libhwloc.so.15 is not a symbolic link\n",
            "\n",
            "Collecting stable-baselines3>=2.0.0a4 (from stable-baselines3[extra]>=2.0.0a4)\n",
            "  Downloading stable_baselines3-2.6.1a1-py3-none-any.whl.metadata (4.8 kB)\n",
            "Requirement already satisfied: gymnasium<1.2.0,>=0.29.1 in /usr/local/lib/python3.11/dist-packages (from stable-baselines3>=2.0.0a4->stable-baselines3[extra]>=2.0.0a4) (1.1.1)\n",
            "Requirement already satisfied: numpy<3.0,>=1.20 in /usr/local/lib/python3.11/dist-packages (from stable-baselines3>=2.0.0a4->stable-baselines3[extra]>=2.0.0a4) (2.0.2)\n",
            "Requirement already satisfied: torch<3.0,>=2.3 in /usr/local/lib/python3.11/dist-packages (from stable-baselines3>=2.0.0a4->stable-baselines3[extra]>=2.0.0a4) (2.6.0+cu124)\n",
            "Requirement already satisfied: cloudpickle in /usr/local/lib/python3.11/dist-packages (from stable-baselines3>=2.0.0a4->stable-baselines3[extra]>=2.0.0a4) (3.1.1)\n",
            "Requirement already satisfied: pandas in /usr/local/lib/python3.11/dist-packages (from stable-baselines3>=2.0.0a4->stable-baselines3[extra]>=2.0.0a4) (2.2.2)\n",
            "Requirement already satisfied: matplotlib in /usr/local/lib/python3.11/dist-packages (from stable-baselines3>=2.0.0a4->stable-baselines3[extra]>=2.0.0a4) (3.10.0)\n",
            "Requirement already satisfied: opencv-python in /usr/local/lib/python3.11/dist-packages (from stable-baselines3[extra]>=2.0.0a4) (4.11.0.86)\n",
            "Requirement already satisfied: pygame in /usr/local/lib/python3.11/dist-packages (from stable-baselines3[extra]>=2.0.0a4) (2.6.1)\n",
            "Requirement already satisfied: tensorboard>=2.9.1 in /usr/local/lib/python3.11/dist-packages (from stable-baselines3[extra]>=2.0.0a4) (2.18.0)\n",
            "Requirement already satisfied: psutil in /usr/local/lib/python3.11/dist-packages (from stable-baselines3[extra]>=2.0.0a4) (5.9.5)\n",
            "Requirement already satisfied: tqdm in /usr/local/lib/python3.11/dist-packages (from stable-baselines3[extra]>=2.0.0a4) (4.67.1)\n",
            "Requirement already satisfied: rich in /usr/local/lib/python3.11/dist-packages (from stable-baselines3[extra]>=2.0.0a4) (13.9.4)\n",
            "Requirement already satisfied: ale-py>=0.9.0 in /usr/local/lib/python3.11/dist-packages (from stable-baselines3[extra]>=2.0.0a4) (0.11.0)\n",
            "Requirement already satisfied: pillow in /usr/local/lib/python3.11/dist-packages (from stable-baselines3[extra]>=2.0.0a4) (11.2.1)\n",
            "Requirement already satisfied: typing-extensions>=4.3.0 in /usr/local/lib/python3.11/dist-packages (from gymnasium<1.2.0,>=0.29.1->stable-baselines3>=2.0.0a4->stable-baselines3[extra]>=2.0.0a4) (4.13.2)\n",
            "Requirement already satisfied: farama-notifications>=0.0.1 in /usr/local/lib/python3.11/dist-packages (from gymnasium<1.2.0,>=0.29.1->stable-baselines3>=2.0.0a4->stable-baselines3[extra]>=2.0.0a4) (0.0.4)\n",
            "Requirement already satisfied: absl-py>=0.4 in /usr/local/lib/python3.11/dist-packages (from tensorboard>=2.9.1->stable-baselines3[extra]>=2.0.0a4) (1.4.0)\n",
            "Requirement already satisfied: grpcio>=1.48.2 in /usr/local/lib/python3.11/dist-packages (from tensorboard>=2.9.1->stable-baselines3[extra]>=2.0.0a4) (1.71.0)\n",
            "Requirement already satisfied: markdown>=2.6.8 in /usr/local/lib/python3.11/dist-packages (from tensorboard>=2.9.1->stable-baselines3[extra]>=2.0.0a4) (3.8)\n",
            "Requirement already satisfied: packaging in /usr/local/lib/python3.11/dist-packages (from tensorboard>=2.9.1->stable-baselines3[extra]>=2.0.0a4) (24.2)\n",
            "Requirement already satisfied: protobuf!=4.24.0,>=3.19.6 in /usr/local/lib/python3.11/dist-packages (from tensorboard>=2.9.1->stable-baselines3[extra]>=2.0.0a4) (5.29.4)\n",
            "Requirement already satisfied: setuptools>=41.0.0 in /usr/local/lib/python3.11/dist-packages (from tensorboard>=2.9.1->stable-baselines3[extra]>=2.0.0a4) (75.2.0)\n",
            "Requirement already satisfied: six>1.9 in /usr/local/lib/python3.11/dist-packages (from tensorboard>=2.9.1->stable-baselines3[extra]>=2.0.0a4) (1.17.0)\n",
            "Requirement already satisfied: tensorboard-data-server<0.8.0,>=0.7.0 in /usr/local/lib/python3.11/dist-packages (from tensorboard>=2.9.1->stable-baselines3[extra]>=2.0.0a4) (0.7.2)\n",
            "Requirement already satisfied: werkzeug>=1.0.1 in /usr/local/lib/python3.11/dist-packages (from tensorboard>=2.9.1->stable-baselines3[extra]>=2.0.0a4) (3.1.3)\n",
            "Requirement already satisfied: filelock in /usr/local/lib/python3.11/dist-packages (from torch<3.0,>=2.3->stable-baselines3>=2.0.0a4->stable-baselines3[extra]>=2.0.0a4) (3.18.0)\n",
            "Requirement already satisfied: networkx in /usr/local/lib/python3.11/dist-packages (from torch<3.0,>=2.3->stable-baselines3>=2.0.0a4->stable-baselines3[extra]>=2.0.0a4) (3.4.2)\n",
            "Requirement already satisfied: jinja2 in /usr/local/lib/python3.11/dist-packages (from torch<3.0,>=2.3->stable-baselines3>=2.0.0a4->stable-baselines3[extra]>=2.0.0a4) (3.1.6)\n",
            "Requirement already satisfied: fsspec in /usr/local/lib/python3.11/dist-packages (from torch<3.0,>=2.3->stable-baselines3>=2.0.0a4->stable-baselines3[extra]>=2.0.0a4) (2025.3.2)\n",
            "Collecting nvidia-cuda-nvrtc-cu12==12.4.127 (from torch<3.0,>=2.3->stable-baselines3>=2.0.0a4->stable-baselines3[extra]>=2.0.0a4)\n",
            "  Downloading nvidia_cuda_nvrtc_cu12-12.4.127-py3-none-manylinux2014_x86_64.whl.metadata (1.5 kB)\n",
            "Collecting nvidia-cuda-runtime-cu12==12.4.127 (from torch<3.0,>=2.3->stable-baselines3>=2.0.0a4->stable-baselines3[extra]>=2.0.0a4)\n",
            "  Downloading nvidia_cuda_runtime_cu12-12.4.127-py3-none-manylinux2014_x86_64.whl.metadata (1.5 kB)\n",
            "Collecting nvidia-cuda-cupti-cu12==12.4.127 (from torch<3.0,>=2.3->stable-baselines3>=2.0.0a4->stable-baselines3[extra]>=2.0.0a4)\n",
            "  Downloading nvidia_cuda_cupti_cu12-12.4.127-py3-none-manylinux2014_x86_64.whl.metadata (1.6 kB)\n",
            "Collecting nvidia-cudnn-cu12==9.1.0.70 (from torch<3.0,>=2.3->stable-baselines3>=2.0.0a4->stable-baselines3[extra]>=2.0.0a4)\n",
            "  Downloading nvidia_cudnn_cu12-9.1.0.70-py3-none-manylinux2014_x86_64.whl.metadata (1.6 kB)\n",
            "Collecting nvidia-cublas-cu12==12.4.5.8 (from torch<3.0,>=2.3->stable-baselines3>=2.0.0a4->stable-baselines3[extra]>=2.0.0a4)\n",
            "  Downloading nvidia_cublas_cu12-12.4.5.8-py3-none-manylinux2014_x86_64.whl.metadata (1.5 kB)\n",
            "Collecting nvidia-cufft-cu12==11.2.1.3 (from torch<3.0,>=2.3->stable-baselines3>=2.0.0a4->stable-baselines3[extra]>=2.0.0a4)\n",
            "  Downloading nvidia_cufft_cu12-11.2.1.3-py3-none-manylinux2014_x86_64.whl.metadata (1.5 kB)\n",
            "Collecting nvidia-curand-cu12==10.3.5.147 (from torch<3.0,>=2.3->stable-baselines3>=2.0.0a4->stable-baselines3[extra]>=2.0.0a4)\n",
            "  Downloading nvidia_curand_cu12-10.3.5.147-py3-none-manylinux2014_x86_64.whl.metadata (1.5 kB)\n",
            "Collecting nvidia-cusolver-cu12==11.6.1.9 (from torch<3.0,>=2.3->stable-baselines3>=2.0.0a4->stable-baselines3[extra]>=2.0.0a4)\n",
            "  Downloading nvidia_cusolver_cu12-11.6.1.9-py3-none-manylinux2014_x86_64.whl.metadata (1.6 kB)\n",
            "Collecting nvidia-cusparse-cu12==12.3.1.170 (from torch<3.0,>=2.3->stable-baselines3>=2.0.0a4->stable-baselines3[extra]>=2.0.0a4)\n",
            "  Downloading nvidia_cusparse_cu12-12.3.1.170-py3-none-manylinux2014_x86_64.whl.metadata (1.6 kB)\n",
            "Requirement already satisfied: nvidia-cusparselt-cu12==0.6.2 in /usr/local/lib/python3.11/dist-packages (from torch<3.0,>=2.3->stable-baselines3>=2.0.0a4->stable-baselines3[extra]>=2.0.0a4) (0.6.2)\n",
            "Requirement already satisfied: nvidia-nccl-cu12==2.21.5 in /usr/local/lib/python3.11/dist-packages (from torch<3.0,>=2.3->stable-baselines3>=2.0.0a4->stable-baselines3[extra]>=2.0.0a4) (2.21.5)\n",
            "Requirement already satisfied: nvidia-nvtx-cu12==12.4.127 in /usr/local/lib/python3.11/dist-packages (from torch<3.0,>=2.3->stable-baselines3>=2.0.0a4->stable-baselines3[extra]>=2.0.0a4) (12.4.127)\n",
            "Collecting nvidia-nvjitlink-cu12==12.4.127 (from torch<3.0,>=2.3->stable-baselines3>=2.0.0a4->stable-baselines3[extra]>=2.0.0a4)\n",
            "  Downloading nvidia_nvjitlink_cu12-12.4.127-py3-none-manylinux2014_x86_64.whl.metadata (1.5 kB)\n",
            "Requirement already satisfied: triton==3.2.0 in /usr/local/lib/python3.11/dist-packages (from torch<3.0,>=2.3->stable-baselines3>=2.0.0a4->stable-baselines3[extra]>=2.0.0a4) (3.2.0)\n",
            "Requirement already satisfied: sympy==1.13.1 in /usr/local/lib/python3.11/dist-packages (from torch<3.0,>=2.3->stable-baselines3>=2.0.0a4->stable-baselines3[extra]>=2.0.0a4) (1.13.1)\n",
            "Requirement already satisfied: mpmath<1.4,>=1.1.0 in /usr/local/lib/python3.11/dist-packages (from sympy==1.13.1->torch<3.0,>=2.3->stable-baselines3>=2.0.0a4->stable-baselines3[extra]>=2.0.0a4) (1.3.0)\n",
            "Requirement already satisfied: contourpy>=1.0.1 in /usr/local/lib/python3.11/dist-packages (from matplotlib->stable-baselines3>=2.0.0a4->stable-baselines3[extra]>=2.0.0a4) (1.3.2)\n",
            "Requirement already satisfied: cycler>=0.10 in /usr/local/lib/python3.11/dist-packages (from matplotlib->stable-baselines3>=2.0.0a4->stable-baselines3[extra]>=2.0.0a4) (0.12.1)\n",
            "Requirement already satisfied: fonttools>=4.22.0 in /usr/local/lib/python3.11/dist-packages (from matplotlib->stable-baselines3>=2.0.0a4->stable-baselines3[extra]>=2.0.0a4) (4.58.0)\n",
            "Requirement already satisfied: kiwisolver>=1.3.1 in /usr/local/lib/python3.11/dist-packages (from matplotlib->stable-baselines3>=2.0.0a4->stable-baselines3[extra]>=2.0.0a4) (1.4.8)\n",
            "Requirement already satisfied: pyparsing>=2.3.1 in /usr/local/lib/python3.11/dist-packages (from matplotlib->stable-baselines3>=2.0.0a4->stable-baselines3[extra]>=2.0.0a4) (3.2.3)\n",
            "Requirement already satisfied: python-dateutil>=2.7 in /usr/local/lib/python3.11/dist-packages (from matplotlib->stable-baselines3>=2.0.0a4->stable-baselines3[extra]>=2.0.0a4) (2.9.0.post0)\n",
            "Requirement already satisfied: pytz>=2020.1 in /usr/local/lib/python3.11/dist-packages (from pandas->stable-baselines3>=2.0.0a4->stable-baselines3[extra]>=2.0.0a4) (2025.2)\n",
            "Requirement already satisfied: tzdata>=2022.7 in /usr/local/lib/python3.11/dist-packages (from pandas->stable-baselines3>=2.0.0a4->stable-baselines3[extra]>=2.0.0a4) (2025.2)\n",
            "Requirement already satisfied: markdown-it-py>=2.2.0 in /usr/local/lib/python3.11/dist-packages (from rich->stable-baselines3[extra]>=2.0.0a4) (3.0.0)\n",
            "Requirement already satisfied: pygments<3.0.0,>=2.13.0 in /usr/local/lib/python3.11/dist-packages (from rich->stable-baselines3[extra]>=2.0.0a4) (2.19.1)\n",
            "Requirement already satisfied: mdurl~=0.1 in /usr/local/lib/python3.11/dist-packages (from markdown-it-py>=2.2.0->rich->stable-baselines3[extra]>=2.0.0a4) (0.1.2)\n",
            "Requirement already satisfied: MarkupSafe>=2.1.1 in /usr/local/lib/python3.11/dist-packages (from werkzeug>=1.0.1->tensorboard>=2.9.1->stable-baselines3[extra]>=2.0.0a4) (3.0.2)\n",
            "Downloading stable_baselines3-2.6.1a1-py3-none-any.whl (185 kB)\n",
            "\u001b[2K   \u001b[90m━━━━━━━━━━━━━━━━━━━━━━━━━━━━━━━━━━━━━━━━\u001b[0m \u001b[32m185.3/185.3 kB\u001b[0m \u001b[31m14.7 MB/s\u001b[0m eta \u001b[36m0:00:00\u001b[0m\n",
            "\u001b[?25hDownloading nvidia_cublas_cu12-12.4.5.8-py3-none-manylinux2014_x86_64.whl (363.4 MB)\n",
            "\u001b[2K   \u001b[90m━━━━━━━━━━━━━━━━━━━━━━━━━━━━━━━━━━━━━━━━\u001b[0m \u001b[32m363.4/363.4 MB\u001b[0m \u001b[31m4.1 MB/s\u001b[0m eta \u001b[36m0:00:00\u001b[0m\n",
            "\u001b[?25hDownloading nvidia_cuda_cupti_cu12-12.4.127-py3-none-manylinux2014_x86_64.whl (13.8 MB)\n",
            "\u001b[2K   \u001b[90m━━━━━━━━━━━━━━━━━━━━━━━━━━━━━━━━━━━━━━━━\u001b[0m \u001b[32m13.8/13.8 MB\u001b[0m \u001b[31m123.3 MB/s\u001b[0m eta \u001b[36m0:00:00\u001b[0m\n",
            "\u001b[?25hDownloading nvidia_cuda_nvrtc_cu12-12.4.127-py3-none-manylinux2014_x86_64.whl (24.6 MB)\n",
            "\u001b[2K   \u001b[90m━━━━━━━━━━━━━━━━━━━━━━━━━━━━━━━━━━━━━━━━\u001b[0m \u001b[32m24.6/24.6 MB\u001b[0m \u001b[31m94.2 MB/s\u001b[0m eta \u001b[36m0:00:00\u001b[0m\n",
            "\u001b[?25hDownloading nvidia_cuda_runtime_cu12-12.4.127-py3-none-manylinux2014_x86_64.whl (883 kB)\n",
            "\u001b[2K   \u001b[90m━━━━━━━━━━━━━━━━━━━━━━━━━━━━━━━━━━━━━━━━\u001b[0m \u001b[32m883.7/883.7 kB\u001b[0m \u001b[31m65.6 MB/s\u001b[0m eta \u001b[36m0:00:00\u001b[0m\n",
            "\u001b[?25hDownloading nvidia_cudnn_cu12-9.1.0.70-py3-none-manylinux2014_x86_64.whl (664.8 MB)\n",
            "\u001b[2K   \u001b[90m━━━━━━━━━━━━━━━━━━━━━━━━━━━━━━━━━━━━━━━━\u001b[0m \u001b[32m664.8/664.8 MB\u001b[0m \u001b[31m1.3 MB/s\u001b[0m eta \u001b[36m0:00:00\u001b[0m\n",
            "\u001b[?25hDownloading nvidia_cufft_cu12-11.2.1.3-py3-none-manylinux2014_x86_64.whl (211.5 MB)\n",
            "\u001b[2K   \u001b[90m━━━━━━━━━━━━━━━━━━━━━━━━━━━━━━━━━━━━━━━━\u001b[0m \u001b[32m211.5/211.5 MB\u001b[0m \u001b[31m5.4 MB/s\u001b[0m eta \u001b[36m0:00:00\u001b[0m\n",
            "\u001b[?25hDownloading nvidia_curand_cu12-10.3.5.147-py3-none-manylinux2014_x86_64.whl (56.3 MB)\n",
            "\u001b[2K   \u001b[90m━━━━━━━━━━━━━━━━━━━━━━━━━━━━━━━━━━━━━━━━\u001b[0m \u001b[32m56.3/56.3 MB\u001b[0m \u001b[31m11.7 MB/s\u001b[0m eta \u001b[36m0:00:00\u001b[0m\n",
            "\u001b[?25hDownloading nvidia_cusolver_cu12-11.6.1.9-py3-none-manylinux2014_x86_64.whl (127.9 MB)\n",
            "\u001b[2K   \u001b[90m━━━━━━━━━━━━━━━━━━━━━━━━━━━━━━━━━━━━━━━━\u001b[0m \u001b[32m127.9/127.9 MB\u001b[0m \u001b[31m7.4 MB/s\u001b[0m eta \u001b[36m0:00:00\u001b[0m\n",
            "\u001b[?25hDownloading nvidia_cusparse_cu12-12.3.1.170-py3-none-manylinux2014_x86_64.whl (207.5 MB)\n",
            "\u001b[2K   \u001b[90m━━━━━━━━━━━━━━━━━━━━━━━━━━━━━━━━━━━━━━━━\u001b[0m \u001b[32m207.5/207.5 MB\u001b[0m \u001b[31m5.3 MB/s\u001b[0m eta \u001b[36m0:00:00\u001b[0m\n",
            "\u001b[?25hDownloading nvidia_nvjitlink_cu12-12.4.127-py3-none-manylinux2014_x86_64.whl (21.1 MB)\n",
            "\u001b[2K   \u001b[90m━━━━━━━━━━━━━━━━━━━━━━━━━━━━━━━━━━━━━━━━\u001b[0m \u001b[32m21.1/21.1 MB\u001b[0m \u001b[31m44.5 MB/s\u001b[0m eta \u001b[36m0:00:00\u001b[0m\n",
            "\u001b[?25hInstalling collected packages: nvidia-nvjitlink-cu12, nvidia-curand-cu12, nvidia-cufft-cu12, nvidia-cuda-runtime-cu12, nvidia-cuda-nvrtc-cu12, nvidia-cuda-cupti-cu12, nvidia-cublas-cu12, nvidia-cusparse-cu12, nvidia-cudnn-cu12, nvidia-cusolver-cu12, stable-baselines3\n",
            "  Attempting uninstall: nvidia-nvjitlink-cu12\n",
            "    Found existing installation: nvidia-nvjitlink-cu12 12.5.82\n",
            "    Uninstalling nvidia-nvjitlink-cu12-12.5.82:\n",
            "      Successfully uninstalled nvidia-nvjitlink-cu12-12.5.82\n",
            "  Attempting uninstall: nvidia-curand-cu12\n",
            "    Found existing installation: nvidia-curand-cu12 10.3.6.82\n",
            "    Uninstalling nvidia-curand-cu12-10.3.6.82:\n",
            "      Successfully uninstalled nvidia-curand-cu12-10.3.6.82\n",
            "  Attempting uninstall: nvidia-cufft-cu12\n",
            "    Found existing installation: nvidia-cufft-cu12 11.2.3.61\n",
            "    Uninstalling nvidia-cufft-cu12-11.2.3.61:\n",
            "      Successfully uninstalled nvidia-cufft-cu12-11.2.3.61\n",
            "  Attempting uninstall: nvidia-cuda-runtime-cu12\n",
            "    Found existing installation: nvidia-cuda-runtime-cu12 12.5.82\n",
            "    Uninstalling nvidia-cuda-runtime-cu12-12.5.82:\n",
            "      Successfully uninstalled nvidia-cuda-runtime-cu12-12.5.82\n",
            "  Attempting uninstall: nvidia-cuda-nvrtc-cu12\n",
            "    Found existing installation: nvidia-cuda-nvrtc-cu12 12.5.82\n",
            "    Uninstalling nvidia-cuda-nvrtc-cu12-12.5.82:\n",
            "      Successfully uninstalled nvidia-cuda-nvrtc-cu12-12.5.82\n",
            "  Attempting uninstall: nvidia-cuda-cupti-cu12\n",
            "    Found existing installation: nvidia-cuda-cupti-cu12 12.5.82\n",
            "    Uninstalling nvidia-cuda-cupti-cu12-12.5.82:\n",
            "      Successfully uninstalled nvidia-cuda-cupti-cu12-12.5.82\n",
            "  Attempting uninstall: nvidia-cublas-cu12\n",
            "    Found existing installation: nvidia-cublas-cu12 12.5.3.2\n",
            "    Uninstalling nvidia-cublas-cu12-12.5.3.2:\n",
            "      Successfully uninstalled nvidia-cublas-cu12-12.5.3.2\n",
            "  Attempting uninstall: nvidia-cusparse-cu12\n",
            "    Found existing installation: nvidia-cusparse-cu12 12.5.1.3\n",
            "    Uninstalling nvidia-cusparse-cu12-12.5.1.3:\n",
            "      Successfully uninstalled nvidia-cusparse-cu12-12.5.1.3\n",
            "  Attempting uninstall: nvidia-cudnn-cu12\n",
            "    Found existing installation: nvidia-cudnn-cu12 9.3.0.75\n",
            "    Uninstalling nvidia-cudnn-cu12-9.3.0.75:\n",
            "      Successfully uninstalled nvidia-cudnn-cu12-9.3.0.75\n",
            "  Attempting uninstall: nvidia-cusolver-cu12\n",
            "    Found existing installation: nvidia-cusolver-cu12 11.6.3.83\n",
            "    Uninstalling nvidia-cusolver-cu12-11.6.3.83:\n",
            "      Successfully uninstalled nvidia-cusolver-cu12-11.6.3.83\n",
            "Successfully installed nvidia-cublas-cu12-12.4.5.8 nvidia-cuda-cupti-cu12-12.4.127 nvidia-cuda-nvrtc-cu12-12.4.127 nvidia-cuda-runtime-cu12-12.4.127 nvidia-cudnn-cu12-9.1.0.70 nvidia-cufft-cu12-11.2.1.3 nvidia-curand-cu12-10.3.5.147 nvidia-cusolver-cu12-11.6.1.9 nvidia-cusparse-cu12-12.3.1.170 nvidia-nvjitlink-cu12-12.4.127 stable-baselines3-2.6.1a1\n"
          ]
        }
      ],
      "source": [
        "!apt-get install ffmpeg freeglut3-dev xvfb  # For visualization\n",
        "!pip install \"stable-baselines3[extra]>=2.0.0a4\""
      ]
    },
    {
      "cell_type": "markdown",
      "metadata": {
        "id": "FtY8FhliLsGm"
      },
      "source": [
        "## Imports"
      ]
    },
    {
      "cell_type": "markdown",
      "metadata": {
        "id": "gcX8hEcaUpR0"
      },
      "source": [
        "Stable-Baselines3 works on environments that follow the [gym interface](https://stable-baselines3.readthedocs.io/en/master/guide/custom_env.html).\n",
        "You can find a list of available environment [here](https://gymnasium.farama.org/environments/classic_control/).\n",
        "\n",
        "Not all algorithms can work with all action spaces, you can find more in this [recap table](https://stable-baselines3.readthedocs.io/en/master/guide/algos.html)"
      ]
    },
    {
      "cell_type": "code",
      "execution_count": 1,
      "metadata": {
        "id": "BIedd7Pz9sOs"
      },
      "outputs": [],
      "source": [
        "import gymnasium as gym\n",
        "import numpy as np"
      ]
    },
    {
      "cell_type": "markdown",
      "metadata": {
        "id": "Ae32CtgzTG3R"
      },
      "source": [
        "The first thing you need to import is the RL model, check the documentation to know what you can use on which problem"
      ]
    },
    {
      "cell_type": "code",
      "execution_count": 4,
      "metadata": {
        "id": "R7tKaBFrTR0a"
      },
      "outputs": [],
      "source": [
        "from stable_baselines3 import PPO"
      ]
    },
    {
      "cell_type": "markdown",
      "metadata": {
        "id": "-0_8OQbOTTNT"
      },
      "source": [
        "The next thing you need to import is the policy class that will be used to create the networks (for the policy/value functions).\n",
        "This step is optional as you can directly use strings in the constructor:\n",
        "\n",
        "```PPO('MlpPolicy', env)``` instead of ```PPO(MlpPolicy, env)```\n",
        "\n",
        "Note that some algorithms like `SAC` have their own `MlpPolicy`, that's why using string for the policy is the recommended option."
      ]
    },
    {
      "cell_type": "code",
      "execution_count": 5,
      "metadata": {
        "id": "ROUJr675TT01"
      },
      "outputs": [],
      "source": [
        "from stable_baselines3.ppo.policies import MlpPolicy"
      ]
    },
    {
      "cell_type": "markdown",
      "metadata": {
        "id": "RapkYvTXL7Cd"
      },
      "source": [
        "## Create the Gym env and instantiate the agent\n",
        "\n",
        "For this example, we will use CartPole environment, a classic control problem.\n",
        "\n",
        "\"A pole is attached by an un-actuated joint to a cart, which moves along a frictionless track. The system is controlled by applying a force of +1 or -1 to the cart. The pendulum starts upright, and the goal is to prevent it from falling over. A reward of +1 is provided for every timestep that the pole remains upright. \"\n",
        "\n",
        "Cartpole environment: [https://gymnasium.farama.org/environments/classic_control/cart_pole/](https://gymnasium.farama.org/environments/classic_control/cart_pole/)\n",
        "\n",
        "![Cartpole](https://cdn-images-1.medium.com/max/1143/1*h4WTQNVIsvMXJTCpXm_TAw.gif)\n",
        "\n",
        "\n",
        "We chose the MlpPolicy because the observation of the CartPole task is a feature vector, not images.\n",
        "\n",
        "The type of action to use (discrete/continuous) will be automatically deduced from the environment action space\n",
        "\n",
        "Here we are using the [Proximal Policy Optimization](https://stable-baselines3.readthedocs.io/en/master/modules/ppo.html) algorithm, which is an Actor-Critic method: it uses a value function to improve the policy gradient descent (by reducing the variance).\n",
        "\n",
        "It combines ideas from [A2C](https://stable-baselines3.readthedocs.io/en/master/modules/a2c.html) (having multiple workers and using an entropy bonus for exploration) and [TRPO](https://stable-baselines.readthedocs.io/en/master/modules/trpo.html) (it uses a trust region to improve stability and avoid catastrophic drops in performance).\n",
        "\n",
        "PPO is an on-policy algorithm, which means that the trajectories used to update the networks must be collected using the latest policy.\n",
        "It is usually less sample efficient than off-policy alorithms like [DQN](https://stable-baselines.readthedocs.io/en/master/modules/dqn.html), [SAC](https://stable-baselines3.readthedocs.io/en/master/modules/sac.html) or [TD3](https://stable-baselines3.readthedocs.io/en/master/modules/td3.html), but is much faster regarding wall-clock time.\n"
      ]
    },
    {
      "cell_type": "code",
      "execution_count": 6,
      "metadata": {
        "colab": {
          "base_uri": "https://localhost:8080/"
        },
        "id": "pUWGZp3i9wyf",
        "outputId": "58421227-9693-457b-90bf-3eb8af1d247e"
      },
      "outputs": [
        {
          "output_type": "stream",
          "name": "stderr",
          "text": [
            "/usr/local/lib/python3.11/dist-packages/stable_baselines3/common/on_policy_algorithm.py:150: UserWarning: You are trying to run PPO on the GPU, but it is primarily intended to run on the CPU when not using a CNN policy (you are using ActorCriticPolicy which should be a MlpPolicy). See https://github.com/DLR-RM/stable-baselines3/issues/1245 for more info. You can pass `device='cpu'` or `export CUDA_VISIBLE_DEVICES=` to force using the CPU.Note: The model will train, but the GPU utilization will be poor and the training might take longer than on CPU.\n",
            "  warnings.warn(\n"
          ]
        }
      ],
      "source": [
        "env = gym.make(\"CartPole-v1\")\n",
        "\n",
        "model = PPO(MlpPolicy, env, verbose=0)"
      ]
    },
    {
      "cell_type": "markdown",
      "metadata": {
        "id": "4efFdrQ7MBvl"
      },
      "source": [
        "We create a helper function to evaluate the agent:"
      ]
    },
    {
      "cell_type": "code",
      "execution_count": 8,
      "metadata": {
        "id": "63M8mSKR-6Zt"
      },
      "outputs": [],
      "source": [
        "from stable_baselines3.common.base_class import BaseAlgorithm\n",
        "\n",
        "\n",
        "def evaluate(\n",
        "    model: BaseAlgorithm,\n",
        "    num_episodes: int = 100,\n",
        "    deterministic: bool = True,\n",
        ") -> float:\n",
        "    \"\"\"\n",
        "    Evaluate an RL agent for `num_episodes`.\n",
        "\n",
        "    :param model: the RL Agent\n",
        "    :param env: the gym Environment\n",
        "    :param num_episodes: number of episodes to evaluate it\n",
        "    :param deterministic: Whether to use deterministic or stochastic actions\n",
        "    :return: Mean reward for the last `num_episodes`\n",
        "    \"\"\"\n",
        "    # This function will only work for a single environment\n",
        "    vec_env = model.get_env()\n",
        "    obs = vec_env.reset()\n",
        "    all_episode_rewards = []\n",
        "    for _ in range(num_episodes):\n",
        "        episode_rewards = []\n",
        "        done = False\n",
        "        # Note: SB3 VecEnv resets automatically:\n",
        "        # https://stable-baselines3.readthedocs.io/en/master/guide/vec_envs.html#vecenv-api-vs-gym-api\n",
        "        # obs = vec_env.reset()\n",
        "        while not done:\n",
        "            # _states are only useful when using LSTM policies\n",
        "            # `deterministic` is to use deterministic actions\n",
        "            action, _states = model.predict(obs, deterministic=deterministic)\n",
        "            # here, action, rewards and dones are arrays\n",
        "            # because we are using vectorized env\n",
        "            obs, reward, done, _info = vec_env.step(action)\n",
        "            episode_rewards.append(reward)\n",
        "\n",
        "        all_episode_rewards.append(sum(episode_rewards))\n",
        "\n",
        "    mean_episode_reward = np.mean(all_episode_rewards)\n",
        "    print(f\"Mean reward: {mean_episode_reward:.2f} - Num episodes: {num_episodes}\")\n",
        "\n",
        "    return mean_episode_reward"
      ]
    },
    {
      "cell_type": "markdown",
      "metadata": {
        "id": "zjEVOIY8NVeK"
      },
      "source": [
        "Let's evaluate the un-trained agent, this should be a random agent."
      ]
    },
    {
      "cell_type": "code",
      "execution_count": 9,
      "metadata": {
        "colab": {
          "base_uri": "https://localhost:8080/"
        },
        "id": "xDHLMA6NFk95",
        "outputId": "73e365e7-4039-4592-8ca9-70cb39ad750f"
      },
      "outputs": [
        {
          "output_type": "stream",
          "name": "stdout",
          "text": [
            "Mean reward: 38.28 - Num episodes: 100\n"
          ]
        }
      ],
      "source": [
        "# Random Agent, before training\n",
        "mean_reward_before_train = evaluate(model, num_episodes=100, deterministic=True)"
      ]
    },
    {
      "cell_type": "markdown",
      "metadata": {
        "id": "QjjPxrwkYJ2i"
      },
      "source": [
        "Stable-Baselines already provides you with that helper:"
      ]
    },
    {
      "cell_type": "code",
      "execution_count": 10,
      "metadata": {
        "id": "8z6K9YImYJEx"
      },
      "outputs": [],
      "source": [
        "from stable_baselines3.common.evaluation import evaluate_policy"
      ]
    },
    {
      "cell_type": "code",
      "execution_count": 11,
      "metadata": {
        "colab": {
          "base_uri": "https://localhost:8080/"
        },
        "id": "4oPTHjxyZSOL",
        "outputId": "380e9598-3526-4657-c0ca-4efd6f2dc62a"
      },
      "outputs": [
        {
          "output_type": "stream",
          "name": "stdout",
          "text": [
            "mean_reward: 40.26 +/- 12.61\n"
          ]
        }
      ],
      "source": [
        "mean_reward, std_reward = evaluate_policy(model, env, n_eval_episodes=100, warn=False)\n",
        "\n",
        "print(f\"mean_reward: {mean_reward:.2f} +/- {std_reward:.2f}\")"
      ]
    },
    {
      "cell_type": "markdown",
      "metadata": {
        "id": "r5UoXTZPNdFE"
      },
      "source": [
        "## Train the agent and evaluate it"
      ]
    },
    {
      "cell_type": "code",
      "execution_count": 12,
      "metadata": {
        "colab": {
          "base_uri": "https://localhost:8080/"
        },
        "id": "e4cfSXIB-pTF",
        "outputId": "e59939cb-90d2-4086-dbe9-63a8e8d0bab6"
      },
      "outputs": [
        {
          "output_type": "execute_result",
          "data": {
            "text/plain": [
              "<stable_baselines3.ppo.ppo.PPO at 0x7b814e2a4890>"
            ]
          },
          "metadata": {},
          "execution_count": 12
        }
      ],
      "source": [
        "# Train the agent for 10000 steps\n",
        "model.learn(total_timesteps=10_000)"
      ]
    },
    {
      "cell_type": "code",
      "execution_count": 13,
      "metadata": {
        "colab": {
          "base_uri": "https://localhost:8080/"
        },
        "id": "ygl_gVmV_QP7",
        "outputId": "98b6f026-fe8e-40de-a381-1b86605ebc2c"
      },
      "outputs": [
        {
          "output_type": "stream",
          "name": "stderr",
          "text": [
            "/usr/local/lib/python3.11/dist-packages/stable_baselines3/common/evaluation.py:70: UserWarning: Evaluation environment is not wrapped with a ``Monitor`` wrapper. This may result in reporting modified episode lengths and rewards, if other wrappers happen to modify these. Consider wrapping environment first with ``Monitor`` wrapper.\n",
            "  warnings.warn(\n"
          ]
        },
        {
          "output_type": "stream",
          "name": "stdout",
          "text": [
            "mean_reward:209.58 +/- 75.47\n"
          ]
        }
      ],
      "source": [
        "# Evaluate the trained agent\n",
        "mean_reward, std_reward = evaluate_policy(model, env, n_eval_episodes=100)\n",
        "\n",
        "print(f\"mean_reward:{mean_reward:.2f} +/- {std_reward:.2f}\")"
      ]
    },
    {
      "cell_type": "markdown",
      "metadata": {
        "id": "A00W6yY3NkHG"
      },
      "source": [
        "Apparently the training went well, the mean reward increased a lot !"
      ]
    },
    {
      "cell_type": "markdown",
      "metadata": {
        "id": "xVm9QPNVwKXN"
      },
      "source": [
        "### Prepare video recording"
      ]
    },
    {
      "cell_type": "code",
      "execution_count": 14,
      "metadata": {
        "id": "MPyfQxD5z26J"
      },
      "outputs": [],
      "source": [
        "# Set up fake display; otherwise rendering will fail\n",
        "import os\n",
        "os.system(\"Xvfb :1 -screen 0 1024x768x24 &\")\n",
        "os.environ['DISPLAY'] = ':1'"
      ]
    },
    {
      "cell_type": "code",
      "execution_count": 15,
      "metadata": {
        "id": "SLzXxO8VMD6N"
      },
      "outputs": [],
      "source": [
        "import base64\n",
        "from pathlib import Path\n",
        "\n",
        "from IPython import display as ipythondisplay\n",
        "\n",
        "\n",
        "def show_videos(video_path=\"\", prefix=\"\"):\n",
        "    \"\"\"\n",
        "    Taken from https://github.com/eleurent/highway-env\n",
        "\n",
        "    :param video_path: (str) Path to the folder containing videos\n",
        "    :param prefix: (str) Filter the video, showing only the only starting with this prefix\n",
        "    \"\"\"\n",
        "    html = []\n",
        "    for mp4 in Path(video_path).glob(\"{}*.mp4\".format(prefix)):\n",
        "        video_b64 = base64.b64encode(mp4.read_bytes())\n",
        "        html.append(\n",
        "            \"\"\"<video alt=\"{}\" autoplay\n",
        "                    loop controls style=\"height: 400px;\">\n",
        "                    <source src=\"data:video/mp4;base64,{}\" type=\"video/mp4\" />\n",
        "                </video>\"\"\".format(\n",
        "                mp4, video_b64.decode(\"ascii\")\n",
        "            )\n",
        "        )\n",
        "    ipythondisplay.display(ipythondisplay.HTML(data=\"<br>\".join(html)))"
      ]
    },
    {
      "cell_type": "markdown",
      "metadata": {
        "id": "LTRNUfulOGaF"
      },
      "source": [
        "We will record a video using the [VecVideoRecorder](https://stable-baselines3.readthedocs.io/en/master/guide/vec_envs.html#vecvideorecorder) wrapper, you will learn about those wrapper in the next notebook."
      ]
    },
    {
      "cell_type": "code",
      "execution_count": 16,
      "metadata": {
        "id": "Trag9dQpOIhx"
      },
      "outputs": [],
      "source": [
        "from stable_baselines3.common.vec_env import VecVideoRecorder, DummyVecEnv\n",
        "\n",
        "\n",
        "def record_video(env_id, model, video_length=500, prefix=\"\", video_folder=\"videos/\"):\n",
        "    \"\"\"\n",
        "    :param env_id: (str)\n",
        "    :param model: (RL model)\n",
        "    :param video_length: (int)\n",
        "    :param prefix: (str)\n",
        "    :param video_folder: (str)\n",
        "    \"\"\"\n",
        "    eval_env = DummyVecEnv([lambda: gym.make(env_id, render_mode=\"rgb_array\")])\n",
        "    # Start the video at step=0 and record 500 steps\n",
        "    eval_env = VecVideoRecorder(\n",
        "        eval_env,\n",
        "        video_folder=video_folder,\n",
        "        record_video_trigger=lambda step: step == 0,\n",
        "        video_length=video_length,\n",
        "        name_prefix=prefix,\n",
        "    )\n",
        "\n",
        "    obs = eval_env.reset()\n",
        "    for _ in range(video_length):\n",
        "        action, _ = model.predict(obs)\n",
        "        obs, _, _, _ = eval_env.step(action)\n",
        "\n",
        "    # Close the video recorder\n",
        "    eval_env.close()"
      ]
    },
    {
      "cell_type": "markdown",
      "metadata": {
        "id": "KOObbeu5MMlR"
      },
      "source": [
        "### Visualize trained agent\n",
        "\n"
      ]
    },
    {
      "cell_type": "code",
      "execution_count": 17,
      "metadata": {
        "colab": {
          "base_uri": "https://localhost:8080/"
        },
        "id": "iATu7AiyMQW2",
        "outputId": "c640e6fc-0f8c-441d-96d0-90e4ba6c092b"
      },
      "outputs": [
        {
          "output_type": "stream",
          "name": "stdout",
          "text": [
            "Saving video to /content/videos/ppo-cartpole-step-0-to-step-500.mp4\n"
          ]
        },
        {
          "output_type": "stream",
          "name": "stderr",
          "text": [
            "/usr/local/lib/python3.11/dist-packages/moviepy/config_defaults.py:1: DeprecationWarning: invalid escape sequence '\\P'\n",
            "  \"\"\"\n"
          ]
        },
        {
          "output_type": "stream",
          "name": "stdout",
          "text": [
            "Moviepy - Building video /content/videos/ppo-cartpole-step-0-to-step-500.mp4.\n",
            "Moviepy - Writing video /content/videos/ppo-cartpole-step-0-to-step-500.mp4\n",
            "\n"
          ]
        },
        {
          "output_type": "stream",
          "name": "stderr",
          "text": []
        },
        {
          "output_type": "stream",
          "name": "stdout",
          "text": [
            "Moviepy - Done !\n",
            "Moviepy - video ready /content/videos/ppo-cartpole-step-0-to-step-500.mp4\n"
          ]
        }
      ],
      "source": [
        "record_video(\"CartPole-v1\", model, video_length=500, prefix=\"ppo-cartpole\")"
      ]
    },
    {
      "cell_type": "code",
      "execution_count": 18,
      "metadata": {
        "colab": {
          "base_uri": "https://localhost:8080/",
          "height": 421
        },
        "id": "-n4i-fW3NojZ",
        "outputId": "40578e05-328c-425c-b2a0-6824f66245f7"
      },
      "outputs": [
        {
          "output_type": "display_data",
          "data": {
            "text/plain": [
              "<IPython.core.display.HTML object>"
            ],
            "text/html": [
              "<video alt=\"videos/ppo-cartpole-step-0-to-step-500.mp4\" autoplay \n",
              "                    loop controls style=\"height: 400px;\">\n",
              "                    <source src=\"data:video/mp4;base64,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\" type=\"video/mp4\" />\n",
              "                </video>"
            ]
          },
          "metadata": {}
        }
      ],
      "source": [
        "show_videos(\"videos\", prefix=\"ppo\")"
      ]
    },
    {
      "cell_type": "markdown",
      "metadata": {
        "id": "9Y8zg4V566qD"
      },
      "source": [
        "## Bonus: Train a RL Model in One Line\n",
        "\n",
        "The policy class to use will be inferred and the environment will be automatically created. This works because both are [registered](https://stable-baselines3.readthedocs.io/en/master/guide/quickstart.html)."
      ]
    },
    {
      "cell_type": "code",
      "execution_count": 19,
      "metadata": {
        "colab": {
          "base_uri": "https://localhost:8080/"
        },
        "id": "iaOPfOrwWEP4",
        "outputId": "b004b913-f8d3-4ed9-a0b7-244b3b91a0cc"
      },
      "outputs": [
        {
          "output_type": "stream",
          "name": "stdout",
          "text": [
            "Using cuda device\n",
            "Creating environment from the given name 'CartPole-v1'\n",
            "Wrapping the env with a `Monitor` wrapper\n",
            "Wrapping the env in a DummyVecEnv.\n"
          ]
        },
        {
          "output_type": "stream",
          "name": "stderr",
          "text": [
            "/usr/local/lib/python3.11/dist-packages/stable_baselines3/common/on_policy_algorithm.py:150: UserWarning: You are trying to run PPO on the GPU, but it is primarily intended to run on the CPU when not using a CNN policy (you are using ActorCriticPolicy which should be a MlpPolicy). See https://github.com/DLR-RM/stable-baselines3/issues/1245 for more info. You can pass `device='cpu'` or `export CUDA_VISIBLE_DEVICES=` to force using the CPU.Note: The model will train, but the GPU utilization will be poor and the training might take longer than on CPU.\n",
            "  warnings.warn(\n"
          ]
        },
        {
          "output_type": "stream",
          "name": "stdout",
          "text": [
            "---------------------------------\n",
            "| rollout/           |          |\n",
            "|    ep_len_mean     | 20.7     |\n",
            "|    ep_rew_mean     | 20.7     |\n",
            "| time/              |          |\n",
            "|    fps             | 691      |\n",
            "|    iterations      | 1        |\n",
            "|    time_elapsed    | 2        |\n",
            "|    total_timesteps | 2048     |\n",
            "---------------------------------\n"
          ]
        }
      ],
      "source": [
        "model = PPO('MlpPolicy', \"CartPole-v1\", verbose=1).learn(1000)"
      ]
    },
    {
      "cell_type": "markdown",
      "metadata": {
        "id": "FrI6f5fWnzp-"
      },
      "source": [
        "## Conclusion\n",
        "\n",
        "In this notebook we have seen:\n",
        "- how to define and train a RL model using stable baselines3, it takes only one line of code ;)"
      ]
    },
    {
      "cell_type": "code",
      "execution_count": null,
      "metadata": {
        "id": "73ji3gbNDkf7"
      },
      "outputs": [],
      "source": []
    }
  ],
  "metadata": {
    "accelerator": "GPU",
    "colab": {
      "name": "1_getting_started.ipynb",
      "provenance": [],
      "gpuType": "T4",
      "include_colab_link": true
    },
    "kernelspec": {
      "display_name": "Python 3",
      "name": "python3"
    },
    "language_info": {
      "codemirror_mode": {
        "name": "ipython",
        "version": 3
      },
      "file_extension": ".py",
      "mimetype": "text/x-python",
      "name": "python",
      "nbconvert_exporter": "python",
      "pygments_lexer": "ipython3",
      "version": "3.10.9"
    }
  },
  "nbformat": 4,
  "nbformat_minor": 0
}